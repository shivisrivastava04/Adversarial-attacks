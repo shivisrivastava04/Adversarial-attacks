{
  "nbformat": 4,
  "nbformat_minor": 0,
  "metadata": {
    "colab": {
      "name": "Untitled7.ipynb",
      "provenance": [],
      "collapsed_sections": []
    },
    "kernelspec": {
      "name": "python3",
      "display_name": "Python 3"
    },
    "language_info": {
      "name": "python"
    }
  },
  "cells": [
    {
      "cell_type": "code",
      "metadata": {
        "id": "mXEPHQ5_07Y5"
      },
      "source": [
        "from keras.preprocessing.image import ImageDataGenerator\n",
        "from keras.models import model_from_json\n",
        "\n",
        "import os\n",
        "os.environ[\"CUDA_VISIBLE_DEVICES\"] = \"-1\"\n",
        "\n",
        "test_datagen = ImageDataGenerator(rescale = 1./255)\n",
        "\n",
        "val_set = test_datagen.flow_from_directory('Dataset',\n",
        "                                           target_size=(224, 224),\n",
        "                                           batch_size=32,\n",
        "                                           class_mode='binary')\n",
        "\n",
        "json_file = open('Final/Model1/100Ep128LC.json', 'r')\n",
        "loaded_model_json = json_file.read()\n",
        "json_file.close()\n",
        "loaded_model = model_from_json(loaded_model_json)\n",
        "# load weights into new model\n",
        "loaded_model.load_weights(\"Final/Model1/100Ep128LC.h5\")\n",
        "print(\"Loaded model from disk\")\n",
        "\n",
        "# evaluate loaded model on test data\n",
        "loaded_model.compile(loss='binary_crossentropy', optimizer='rmsprop', metrics=['accuracy'])\n",
        "img = loaded_model.predict(val_set)\n",
        "\n",
        "\n",
        "# evaluate\n",
        "json_file = open('Source/Model2/60_20Ep.json', 'r')\n",
        "loaded_model_json = json_file.read()\n",
        "json_file.close()\n",
        "loaded_model = model_from_json(loaded_model_json)\n",
        "# load weights into new model\n",
        "loaded_model.load_weights(\"Final/Model2/60_20Ep.h5\")\n",
        "print(\"Loaded model from disk\")\n",
        "\n",
        "# evaluate loaded model on test data\n",
        "loaded_model.compile(loss='binary_crossentropy', optimizer='rmsprop', metrics=['accuracy'])\n",
        "score1 = loaded_model.predict(val_set)\n",
        "print(score1)\n",
        "\n",
        "score2 = loaded_model.predict(img)\n",
        "print(score2)\n",
        "\n",
        "#import matplotlib.pyplot as plt\n",
        "#for i in range(10):\n",
        "#    imgplot = plt.imshow(img[i])\n",
        "#    plt.show()\n",
        "\n",
        "import matplotlib.pyplot as plt\n",
        "import numpy as np\n",
        "\n",
        "w = 0.4\n",
        "\n",
        "bar1 = np.arange(10)\n",
        "bar2 = [i+w for i in bar1]\n",
        "\n",
        "plt.bar(bar1,np.reshape(score1, 10), w, label=\"Synthetic Images\")\n",
        "plt.bar(bar2,np.reshape(score2, 10), w, label=\"Filtered Image\")\n",
        "\n",
        "plt.title(\"How synthetic the image is..??\")\n",
        "\n",
        "plt.xlabel(\"Images\")\n",
        "plt.ylabel(\"Score represented how much synthetic\")\n",
        "plt.legend()\n",
        "plt.show()\n",
        "\n",
        "\n",
        "#print(\"%s: %.2f%%\" % (loaded_model.metrics_names[1], score[1]*100))"
      ],
      "execution_count": null,
      "outputs": []
    }
  ]
}