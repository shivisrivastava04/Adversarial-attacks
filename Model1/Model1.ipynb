{
  "nbformat": 4,
  "nbformat_minor": 0,
  "metadata": {
    "colab": {
      "name": "Model1.ipynb",
      "provenance": [],
      "collapsed_sections": []
    },
    "kernelspec": {
      "display_name": "Python 3",
      "name": "python3"
    },
    "accelerator": "TPU"
  },
  "cells": [
    {
      "cell_type": "code",
      "metadata": {
        "id": "yiLo8agSIVb1"
      },
      "source": [
        "from keras import Model, Input\n",
        "from keras.layers import Convolution2D, Convolution2DTranspose, MaxPool2D, UpSampling2D\n",
        "import glob2\n",
        "from PIL import Image\n",
        "from numpy import asarray\n",
        "import numpy as np\n",
        "from keras.optimizers import Adam\n",
        "from keras.preprocessing.image import ImageDataGenerator\n",
        "from keras.preprocessing import image\n",
        "from keras.callbacks import ModelCheckpoint"
      ],
      "execution_count": null,
      "outputs": []
    },
    {
      "cell_type": "code",
      "metadata": {
        "colab": {
          "base_uri": "https://localhost:8080/"
        },
        "id": "i0Ea-QK8IPMw",
        "outputId": "e5cf44c4-105b-4b48-df6b-5afdf8e339f5"
      },
      "source": [
        "train_datagen = ImageDataGenerator(rescale = 1./255,\n",
        "                                   shear_range = 0.2,\n",
        "                                   zoom_range = 0.2,\n",
        "                                   horizontal_flip = True,\n",
        "                                   validation_split=0.25)\n",
        "\n",
        "test_datagen = ImageDataGenerator(rescale = 1./255)\n",
        "\n",
        "training_set = train_datagen.flow_from_directory('/content/drive/MyDrive/Datasets/CASIA_WebFace/800_TrainAndTest',\n",
        "                                                 target_size=(224, 224),\n",
        "                                                 batch_size=32,\n",
        "                                                 class_mode='input')\n",
        "\n",
        "print(training_set[0][0].shape)\n",
        "print(training_set[0][1].shape)\n",
        "\n",
        "val_set = test_datagen.flow_from_directory('/content/drive/MyDrive/Datasets/CASIA_WebFace/800_TrainAndTest',\n",
        "                                            target_size=(224, 224),\n",
        "                                            batch_size=32,\n",
        "                                            class_mode='input',\n",
        "                                            subset='validation')"
      ],
      "execution_count": null,
      "outputs": [
        {
          "output_type": "stream",
          "text": [
            "Found 975 images belonging to 1 classes.\n",
            "(32, 224, 224, 3)\n",
            "(32, 224, 224, 3)\n",
            "Found 0 images belonging to 1 classes.\n"
          ],
          "name": "stdout"
        }
      ]
    },
    {
      "cell_type": "code",
      "metadata": {
        "id": "-VUPFQHazhMZ",
        "colab": {
          "base_uri": "https://localhost:8080/"
        },
        "outputId": "83f173c6-a68f-48b2-b727-fc569df0e5fd"
      },
      "source": [
        "\n",
        "#from keras.callbacks import TensorBoard\n",
        "\n",
        "# Remove this if you have GPU support\n",
        "#import os\n",
        "#os.environ[\"CUDA_VISIBLE_DEVICES\"] = \"-1\"\n",
        "\n",
        "ae_epochs = 100\n",
        "latent_code_size = 128\n",
        "batch_size = 128\n",
        "num_epochs = 200\n",
        "learning_rate = 1e-3\n",
        "#original_image_path = \"/content/drive/MyDrive/Datasets/CASIA_WebFace/0000045\"\n",
        "#image_list = glob2.glob(original_image_path + '\\\\*.jpg')\n",
        "#print(len(image_list))\n",
        "\n",
        "class AutoEncoder():\n",
        "    def __init__(self, latent_code_size, size = 32):\n",
        "        self.conv1 = Convolution2D(size, (3, 3), padding='same', activation='relu')\n",
        "        self.conv2 = Convolution2D(size*2, (3, 3), padding='same', activation='relu')\n",
        "        self.conv3 = Convolution2D(size*4, (3, 3), padding='same', activation='relu')\n",
        "        self.conv4 = Convolution2D(latent_code_size, (3, 3), padding='same', activation='relu')\n",
        "\n",
        "        self.trans1 = Convolution2D(size*4, (3, 3), padding='same', activation='relu')\n",
        "        self.trans2 = Convolution2D(size*2, (3, 3), padding='same', activation='relu')\n",
        "        self.trans3 = Convolution2D(size, (3, 3), padding='same', activation='relu')\n",
        "        self.trans4 = Convolution2D(3, (3, 3), padding='same', activation='relu')\n",
        "        self.mp = MaxPool2D((2, 2), padding='same')\n",
        "        self.up = UpSampling2D((2,2))\n",
        "\n",
        "    def encoder(self, x):\n",
        "        x = self.conv1(x) # [?, 32, 224, 224]\n",
        "        x = self.mp(x) # [?, 32, 112, 112] #, ind1\n",
        "        x = self.conv2(x) # [?, 64, 112, 112]\n",
        "        x = self.mp(x) # [?, 64, 56, 56]\n",
        "        x = self.conv3(x) # [?, 128, 56, 56]\n",
        "        x = self.mp(x) # [?, 128, 28, 28]\n",
        "        x = self.conv4(x) # [?, 32, 28, 28]\n",
        "        return x\n",
        "\n",
        "    def decoder(self, x):\n",
        "        x = self.trans1(x) # [128, 128, 28, 28]\n",
        "        x = self.up(x) # [128, 128, 56, 56]\n",
        "        x = self.trans2(x) # [128, 128, 56, 56]\n",
        "        x = self.up(x) # [128, 128, 112, 112]\n",
        "        x = self.trans3(x) # [128, 128, 112, 112]\n",
        "        x = self.up(x) # [128, 128, 224, 224]\n",
        "        x = self.trans4(x) # [128, 128, 224, 224]\n",
        "        return x\n",
        "\n",
        "input_img = Input(shape=(224, 224, 3))\n",
        "auto_encoder = AutoEncoder(latent_code_size)\n",
        "encoder= auto_encoder.encoder(input_img)\n",
        "decoder = auto_encoder.decoder(encoder)\n",
        "autoencoder = Model( input_img, decoder)\n",
        "adam = Adam(learning_rate=learning_rate)\n",
        "autoencoder.compile(optimizer=adam, loss='binary_crossentropy', metrics=['accuracy'])\n",
        "#autoencoder.summary()\n",
        "checkpoint = ModelCheckpoint(\"/content/drive/MyDrive/GAN/128/best_model.hdf5\", monitor='loss', verbose=1,\n",
        "    save_best_only=True, mode='auto', period=10)\n",
        "history = autoencoder.fit(training_set,\n",
        "                epochs=ae_epochs,\n",
        "                shuffle=True,\n",
        "                batch_size =32,\n",
        "                validation_data=val_set,\n",
        "                callbacks=[checkpoint])\n",
        "\n",
        "autoencoder.save('/content/drive/MyDrive/GAN/128')\n",
        "clssf = autoencoder.to_json()\n",
        "with open(\"/content/drive/MyDrive/GAN/128/100Ep128LC.json\", \"w\") as json_file:\n",
        "    json_file.write(clssf)\n",
        "autoencoder.save_weights(\"/content/drive/MyDrive/GAN/128/100Ep128LC.h5\")"
      ],
      "execution_count": null,
      "outputs": [
        {
          "output_type": "stream",
          "text": [
            "WARNING:tensorflow:`period` argument is deprecated. Please use `save_freq` to specify the frequency in number of batches seen.\n"
          ],
          "name": "stdout"
        },
        {
          "output_type": "stream",
          "text": [
            "WARNING:tensorflow:`period` argument is deprecated. Please use `save_freq` to specify the frequency in number of batches seen.\n"
          ],
          "name": "stderr"
        },
        {
          "output_type": "stream",
          "text": [
            "Epoch 1/100\n",
            "31/31 [==============================] - 300s 9s/step - loss: 1.5902 - accuracy: 0.5428\n",
            "Epoch 2/100\n",
            "31/31 [==============================] - 283s 9s/step - loss: 0.5351 - accuracy: 0.8141\n",
            "Epoch 3/100\n",
            "31/31 [==============================] - 281s 9s/step - loss: 0.5172 - accuracy: 0.8053\n",
            "Epoch 4/100\n",
            "31/31 [==============================] - 284s 9s/step - loss: 0.5098 - accuracy: 0.7983\n",
            "Epoch 5/100\n",
            "31/31 [==============================] - 282s 9s/step - loss: 0.5074 - accuracy: 0.8194\n",
            "Epoch 6/100\n",
            "31/31 [==============================] - 281s 9s/step - loss: 0.5008 - accuracy: 0.8229\n",
            "Epoch 7/100\n",
            "31/31 [==============================] - 281s 9s/step - loss: 0.5096 - accuracy: 0.8259\n",
            "Epoch 8/100\n",
            "31/31 [==============================] - 285s 9s/step - loss: 0.5068 - accuracy: 0.8305\n",
            "Epoch 9/100\n",
            "31/31 [==============================] - 281s 9s/step - loss: 0.5052 - accuracy: 0.8127\n",
            "Epoch 10/100\n",
            "31/31 [==============================] - 281s 9s/step - loss: 0.5026 - accuracy: 0.8237\n",
            "\n",
            "Epoch 00010: loss improved from inf to 0.50384, saving model to /content/drive/MyDrive/GAN/128/best_model.hdf5\n",
            "Epoch 11/100\n",
            "31/31 [==============================] - 281s 9s/step - loss: 0.5068 - accuracy: 0.8302\n",
            "Epoch 12/100\n",
            "31/31 [==============================] - 280s 9s/step - loss: 0.5018 - accuracy: 0.8389\n",
            "Epoch 13/100\n",
            "31/31 [==============================] - 280s 9s/step - loss: 0.5016 - accuracy: 0.8314\n",
            "Epoch 14/100\n",
            "31/31 [==============================] - 279s 9s/step - loss: 0.5042 - accuracy: 0.8082\n",
            "Epoch 15/100\n",
            "31/31 [==============================] - 280s 9s/step - loss: 0.5019 - accuracy: 0.8351\n",
            "Epoch 16/100\n",
            "31/31 [==============================] - 280s 9s/step - loss: 0.5023 - accuracy: 0.8278\n",
            "Epoch 17/100\n",
            "31/31 [==============================] - 280s 9s/step - loss: 0.5030 - accuracy: 0.8420\n",
            "Epoch 18/100\n",
            "31/31 [==============================] - 281s 9s/step - loss: 0.4973 - accuracy: 0.8388\n",
            "Epoch 19/100\n",
            "31/31 [==============================] - 279s 9s/step - loss: 0.5044 - accuracy: 0.8368\n",
            "Epoch 20/100\n",
            "31/31 [==============================] - 280s 9s/step - loss: 0.4997 - accuracy: 0.8336\n",
            "\n",
            "Epoch 00020: loss improved from 0.50384 to 0.50016, saving model to /content/drive/MyDrive/GAN/128/best_model.hdf5\n",
            "Epoch 21/100\n",
            "31/31 [==============================] - 279s 9s/step - loss: 0.5017 - accuracy: 0.8479\n",
            "Epoch 22/100\n",
            "31/31 [==============================] - 278s 9s/step - loss: 0.5030 - accuracy: 0.8503\n",
            "Epoch 23/100\n",
            "31/31 [==============================] - 279s 9s/step - loss: 0.4997 - accuracy: 0.8647\n",
            "Epoch 24/100\n",
            "31/31 [==============================] - 278s 9s/step - loss: 0.4967 - accuracy: 0.8701\n",
            "Epoch 25/100\n",
            "31/31 [==============================] - 279s 9s/step - loss: 0.5014 - accuracy: 0.8700\n",
            "Epoch 26/100\n",
            "31/31 [==============================] - 279s 9s/step - loss: 0.5008 - accuracy: 0.8406\n",
            "Epoch 27/100\n",
            "31/31 [==============================] - 281s 9s/step - loss: 0.4991 - accuracy: 0.8368\n",
            "Epoch 28/100\n",
            "31/31 [==============================] - 283s 9s/step - loss: 0.5036 - accuracy: 0.8464\n",
            "Epoch 29/100\n",
            "31/31 [==============================] - 280s 9s/step - loss: 0.4993 - accuracy: 0.8488\n",
            "Epoch 30/100\n",
            "31/31 [==============================] - 281s 9s/step - loss: 0.5032 - accuracy: 0.8765\n",
            "\n",
            "Epoch 00030: loss improved from 0.50016 to 0.49975, saving model to /content/drive/MyDrive/GAN/128/best_model.hdf5\n",
            "Epoch 31/100\n",
            "31/31 [==============================] - 279s 9s/step - loss: 0.5020 - accuracy: 0.8472\n",
            "Epoch 32/100\n",
            "31/31 [==============================] - 280s 9s/step - loss: 0.4981 - accuracy: 0.8464\n",
            "Epoch 33/100\n",
            "31/31 [==============================] - 279s 9s/step - loss: 0.5000 - accuracy: 0.8525\n",
            "Epoch 34/100\n",
            "31/31 [==============================] - 281s 9s/step - loss: 0.4946 - accuracy: 0.8663\n",
            "Epoch 35/100\n",
            "31/31 [==============================] - 280s 9s/step - loss: 0.5003 - accuracy: 0.8392\n",
            "Epoch 36/100\n",
            "31/31 [==============================] - 279s 9s/step - loss: 0.5000 - accuracy: 0.8510\n",
            "Epoch 37/100\n",
            "31/31 [==============================] - 279s 9s/step - loss: 0.4957 - accuracy: 0.8653\n",
            "Epoch 38/100\n",
            "31/31 [==============================] - 279s 9s/step - loss: 0.4986 - accuracy: 0.8431\n",
            "Epoch 39/100\n",
            "31/31 [==============================] - 280s 9s/step - loss: 0.5022 - accuracy: 0.8319\n",
            "Epoch 40/100\n",
            "31/31 [==============================] - 279s 9s/step - loss: 0.5023 - accuracy: 0.8470\n",
            "\n",
            "Epoch 00040: loss did not improve from 0.49975\n",
            "Epoch 41/100\n",
            "31/31 [==============================] - 280s 9s/step - loss: 0.4991 - accuracy: 0.8505\n",
            "Epoch 42/100\n",
            "31/31 [==============================] - 279s 9s/step - loss: 0.6301 - accuracy: 0.6578\n",
            "Epoch 43/100\n",
            "31/31 [==============================] - 277s 9s/step - loss: 0.7846 - accuracy: 0.5003\n",
            "Epoch 44/100\n",
            "31/31 [==============================] - 278s 9s/step - loss: 0.5449 - accuracy: 0.8197\n",
            "Epoch 45/100\n",
            "31/31 [==============================] - 279s 9s/step - loss: 0.5260 - accuracy: 0.7761\n",
            "Epoch 46/100\n",
            "31/31 [==============================] - 279s 9s/step - loss: 0.5166 - accuracy: 0.8000\n",
            "Epoch 47/100\n",
            "31/31 [==============================] - 279s 9s/step - loss: 0.5124 - accuracy: 0.8057\n",
            "Epoch 48/100\n",
            "31/31 [==============================] - 278s 9s/step - loss: 0.5081 - accuracy: 0.7923\n",
            "Epoch 49/100\n",
            "31/31 [==============================] - 279s 9s/step - loss: 0.5031 - accuracy: 0.7934\n",
            "Epoch 50/100\n",
            "31/31 [==============================] - 280s 9s/step - loss: 0.5044 - accuracy: 0.8093\n",
            "\n",
            "Epoch 00050: loss did not improve from 0.49975\n",
            "Epoch 51/100\n",
            "31/31 [==============================] - 282s 9s/step - loss: 0.5037 - accuracy: 0.8078\n",
            "Epoch 52/100\n",
            "31/31 [==============================] - 279s 9s/step - loss: 0.5052 - accuracy: 0.8070\n",
            "Epoch 53/100\n",
            "31/31 [==============================] - 281s 9s/step - loss: 0.5063 - accuracy: 0.8067\n",
            "Epoch 54/100\n",
            "31/31 [==============================] - 278s 9s/step - loss: 0.5013 - accuracy: 0.8228\n",
            "Epoch 55/100\n",
            "31/31 [==============================] - 278s 9s/step - loss: 0.4988 - accuracy: 0.8208\n",
            "Epoch 56/100\n",
            "31/31 [==============================] - 281s 9s/step - loss: 0.5026 - accuracy: 0.8303\n",
            "Epoch 57/100\n",
            "31/31 [==============================] - 280s 9s/step - loss: 0.5030 - accuracy: 0.8301\n",
            "Epoch 58/100\n",
            "31/31 [==============================] - 280s 9s/step - loss: 0.5012 - accuracy: 0.8322\n",
            "Epoch 59/100\n",
            "31/31 [==============================] - 280s 9s/step - loss: 0.5019 - accuracy: 0.8342\n",
            "Epoch 60/100\n",
            "31/31 [==============================] - 280s 9s/step - loss: 0.5032 - accuracy: 0.8470\n",
            "\n",
            "Epoch 00060: loss did not improve from 0.49975\n",
            "Epoch 61/100\n",
            "31/31 [==============================] - 279s 9s/step - loss: 0.4956 - accuracy: 0.8471\n",
            "Epoch 62/100\n",
            "31/31 [==============================] - 279s 9s/step - loss: 0.4997 - accuracy: 0.8403\n",
            "Epoch 63/100\n",
            "31/31 [==============================] - 279s 9s/step - loss: 0.5066 - accuracy: 0.8354\n",
            "Epoch 64/100\n",
            "31/31 [==============================] - 279s 9s/step - loss: 0.4976 - accuracy: 0.8423\n",
            "Epoch 65/100\n",
            "31/31 [==============================] - 280s 9s/step - loss: 0.5005 - accuracy: 0.8491\n",
            "Epoch 66/100\n",
            "31/31 [==============================] - 280s 9s/step - loss: 0.5149 - accuracy: 0.7226\n",
            "Epoch 67/100\n",
            "31/31 [==============================] - 279s 9s/step - loss: 0.5021 - accuracy: 0.8105\n",
            "Epoch 68/100\n",
            "31/31 [==============================] - 279s 9s/step - loss: 0.4995 - accuracy: 0.8314\n",
            "Epoch 69/100\n",
            "31/31 [==============================] - 279s 9s/step - loss: 0.4948 - accuracy: 0.8358\n",
            "Epoch 70/100\n",
            "31/31 [==============================] - 281s 9s/step - loss: 0.4985 - accuracy: 0.8506\n",
            "\n",
            "Epoch 00070: loss did not improve from 0.49975\n",
            "Epoch 71/100\n",
            "31/31 [==============================] - 280s 9s/step - loss: 0.4996 - accuracy: 0.8587\n",
            "Epoch 72/100\n",
            "31/31 [==============================] - 279s 9s/step - loss: 0.5026 - accuracy: 0.8447\n",
            "Epoch 73/100\n",
            "31/31 [==============================] - 280s 9s/step - loss: 0.4986 - accuracy: 0.8579\n",
            "Epoch 74/100\n",
            "31/31 [==============================] - 280s 9s/step - loss: 0.4978 - accuracy: 0.8542\n",
            "Epoch 75/100\n",
            "31/31 [==============================] - 280s 9s/step - loss: 0.5013 - accuracy: 0.8601\n",
            "Epoch 76/100\n",
            "31/31 [==============================] - 279s 9s/step - loss: 0.4986 - accuracy: 0.8506\n",
            "Epoch 77/100\n",
            "31/31 [==============================] - 279s 9s/step - loss: 0.4988 - accuracy: 0.8590\n",
            "Epoch 78/100\n",
            "31/31 [==============================] - 279s 9s/step - loss: 0.4986 - accuracy: 0.8495\n",
            "Epoch 79/100\n",
            "31/31 [==============================] - 279s 9s/step - loss: 0.5010 - accuracy: 0.8224\n",
            "Epoch 80/100\n",
            "31/31 [==============================] - 280s 9s/step - loss: 0.4971 - accuracy: 0.8493\n",
            "\n",
            "Epoch 00080: loss improved from 0.49975 to 0.49838, saving model to /content/drive/MyDrive/GAN/128/best_model.hdf5\n",
            "Epoch 81/100\n",
            "31/31 [==============================] - 279s 9s/step - loss: 0.4953 - accuracy: 0.8508\n",
            "Epoch 82/100\n",
            "31/31 [==============================] - 280s 9s/step - loss: 0.4992 - accuracy: 0.8646\n",
            "Epoch 83/100\n",
            "31/31 [==============================] - 279s 9s/step - loss: 0.5037 - accuracy: 0.8648\n",
            "Epoch 84/100\n",
            "31/31 [==============================] - 280s 9s/step - loss: 0.5015 - accuracy: 0.8679\n",
            "Epoch 85/100\n",
            "31/31 [==============================] - 281s 9s/step - loss: 0.4972 - accuracy: 0.8541\n",
            "Epoch 86/100\n",
            "31/31 [==============================] - 280s 9s/step - loss: 0.4994 - accuracy: 0.8589\n",
            "Epoch 87/100\n",
            "31/31 [==============================] - 281s 9s/step - loss: 0.4980 - accuracy: 0.8727\n",
            "Epoch 88/100\n",
            "31/31 [==============================] - 280s 9s/step - loss: 0.4977 - accuracy: 0.8614\n",
            "Epoch 89/100\n",
            "31/31 [==============================] - 278s 9s/step - loss: 0.4999 - accuracy: 0.8677\n",
            "Epoch 90/100\n",
            "31/31 [==============================] - 280s 9s/step - loss: 0.4963 - accuracy: 0.8677\n",
            "\n",
            "Epoch 00090: loss improved from 0.49838 to 0.49693, saving model to /content/drive/MyDrive/GAN/128/best_model.hdf5\n",
            "Epoch 91/100\n",
            "31/31 [==============================] - 279s 9s/step - loss: 0.4973 - accuracy: 0.8637\n",
            "Epoch 92/100\n",
            "31/31 [==============================] - 281s 9s/step - loss: 0.4994 - accuracy: 0.8557\n",
            "Epoch 93/100\n",
            "31/31 [==============================] - 279s 9s/step - loss: 0.4993 - accuracy: 0.8319\n",
            "Epoch 94/100\n",
            "31/31 [==============================] - 280s 9s/step - loss: 0.4962 - accuracy: 0.8797\n",
            "Epoch 95/100\n",
            "31/31 [==============================] - 280s 9s/step - loss: 0.4974 - accuracy: 0.8751\n",
            "Epoch 96/100\n",
            "31/31 [==============================] - 280s 9s/step - loss: 0.4969 - accuracy: 0.8613\n",
            "Epoch 97/100\n",
            "31/31 [==============================] - 280s 9s/step - loss: 0.4938 - accuracy: 0.8671\n",
            "Epoch 98/100\n",
            "31/31 [==============================] - 280s 9s/step - loss: 0.4960 - accuracy: 0.8445\n",
            "Epoch 99/100\n",
            "31/31 [==============================] - 279s 9s/step - loss: 0.5014 - accuracy: 0.8621\n",
            "Epoch 100/100\n",
            "31/31 [==============================] - 280s 9s/step - loss: 0.4951 - accuracy: 0.8673\n",
            "\n",
            "Epoch 00100: loss did not improve from 0.49693\n",
            "INFO:tensorflow:Assets written to: /content/drive/MyDrive/GAN/128/assets\n"
          ],
          "name": "stdout"
        },
        {
          "output_type": "stream",
          "text": [
            "INFO:tensorflow:Assets written to: /content/drive/MyDrive/GAN/128/assets\n"
          ],
          "name": "stderr"
        }
      ]
    },
    {
      "cell_type": "code",
      "metadata": {
        "id": "nRE4b5QEoecN",
        "colab": {
          "base_uri": "https://localhost:8080/"
        },
        "outputId": "d01b1798-28ed-4ea0-9624-6170529aad4f"
      },
      "source": [
        "autoencoder.save('/content/drive/MyDrive/GAN/128')\n",
        "clssf = autoencoder.to_json()\n",
        "with open(\"/content/drive/MyDrive/GAN/128/100Ep128LC.json\", \"w\") as json_file:\n",
        "    json_file.write(clssf)\n",
        "autoencoder.save_weights(\"/content/drive/MyDrive/GAN/128/100Ep128LC.h5\")"
      ],
      "execution_count": null,
      "outputs": [
        {
          "output_type": "stream",
          "text": [
            "INFO:tensorflow:Assets written to: /content/drive/MyDrive/GAN/assets\n"
          ],
          "name": "stdout"
        }
      ]
    },
    {
      "cell_type": "code",
      "metadata": {
        "colab": {
          "base_uri": "https://localhost:8080/",
          "height": 163
        },
        "id": "4stz-yhSH7k9",
        "outputId": "4e171788-4b18-4c51-e9c4-ebde1d6ad5ae"
      },
      "source": [
        "history.history['loss']"
      ],
      "execution_count": null,
      "outputs": [
        {
          "output_type": "error",
          "ename": "NameError",
          "evalue": "ignored",
          "traceback": [
            "\u001b[0;31m---------------------------------------------------------------------------\u001b[0m",
            "\u001b[0;31mNameError\u001b[0m                                 Traceback (most recent call last)",
            "\u001b[0;32m<ipython-input-1-57965367e63a>\u001b[0m in \u001b[0;36m<module>\u001b[0;34m()\u001b[0m\n\u001b[0;32m----> 1\u001b[0;31m \u001b[0mhistory\u001b[0m\u001b[0;34m.\u001b[0m\u001b[0mhistory\u001b[0m\u001b[0;34m[\u001b[0m\u001b[0;34m'loss'\u001b[0m\u001b[0;34m]\u001b[0m\u001b[0;34m\u001b[0m\u001b[0;34m\u001b[0m\u001b[0m\n\u001b[0m",
            "\u001b[0;31mNameError\u001b[0m: name 'history' is not defined"
          ]
        }
      ]
    },
    {
      "cell_type": "code",
      "metadata": {
        "colab": {
          "base_uri": "https://localhost:8080/",
          "height": 312
        },
        "id": "oRAce-pfHXnS",
        "outputId": "50f3dfd4-7fcf-43e9-f931-9c05a3ddec13"
      },
      "source": [
        "%matplotlib inline\n",
        "import matplotlib.pyplot as plt\n",
        "\n",
        "print(history.history.keys())\n",
        "#  \"Accuracy\"\n",
        "#plt.plot(history.history['acc'])\n",
        "#plt.plot(history.history['val_acc'])\n",
        "#plt.title('model accuracy')\n",
        "#plt.ylabel('accuracy')\n",
        "#plt.xlabel('epoch')\n",
        "#plt.legend(['train', 'validation'], loc='upper left')\n",
        "#plt.show()\n",
        "# \"Loss\"\n",
        "plt.plot(history.history['loss'])\n",
        "#plt.plot(history.history['val_loss'])\n",
        "plt.title('model loss')\n",
        "plt.ylabel('loss')\n",
        "plt.xlabel('epoch')\n",
        "plt.legend(['train', 'validation'], loc='upper left')\n",
        "plt.show()"
      ],
      "execution_count": null,
      "outputs": [
        {
          "output_type": "stream",
          "text": [
            "dict_keys(['loss'])\n"
          ],
          "name": "stdout"
        },
        {
          "output_type": "display_data",
          "data": {
            "image/png": "[encoded data removed]",
            "text/plain": [
              "<Figure size 432x288 with 1 Axes>"
            ]
          },
          "metadata": {
            "tags": [],
            "needs_background": "light"
          }
        }
      ]
    },
    {
      "cell_type": "code",
      "metadata": {
        "colab": {
          "base_uri": "https://localhost:8080/"
        },
        "id": "oPEeAD5UACaf",
        "outputId": "433a01d6-681b-4490-caab-16bfe66a2c79"
      },
      "source": [
        "from google.colab import drive\n",
        "drive.mount('/content/drive')\n",
        "import os\n",
        "os.chdir('/content/drive/MyDrive/Datasets/CASIA_WebFace/800_TrainAndTest')"
      ],
      "execution_count": null,
      "outputs": [
        {
          "output_type": "stream",
          "text": [
            "Drive already mounted at /content/drive; to attempt to forcibly remount, call drive.mount(\"/content/drive\", force_remount=True).\n"
          ],
          "name": "stdout"
        }
      ]
    }
  ]
}